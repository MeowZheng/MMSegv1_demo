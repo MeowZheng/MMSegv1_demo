{
  "cells": [
    {
      "cell_type": "markdown",
      "metadata": {
        "colab_type": "text",
        "id": "view-in-github"
      },
      "source": [
        "<a href=\"https://colab.research.google.com/github/MeowZheng/MMSegv1_demo/blob/master/mmsegv1_demo.ipynb\" target=\"_parent\"><img src=\"https://colab.research.google.com/assets/colab-badge.svg\" alt=\"Open In Colab\"/></a>"
      ]
    },
    {
      "cell_type": "markdown",
      "metadata": {
        "id": "B5P9UY6VoZms"
      },
      "source": [
        "# Install MMSeg dependencies"
      ]
    },
    {
      "cell_type": "code",
      "execution_count": null,
      "metadata": {
        "colab": {
          "base_uri": "https://localhost:8080/"
        },
        "id": "kqNJcXB4obK6",
        "outputId": "4ab394e4-8f16-41c3-afb7-30cb9f594d4f"
      },
      "outputs": [],
      "source": [
        "!pip install torch==1.12.0 torchvision --extra-index-url https://download.pytorch.org/whl/cu113 \n",
        "!pip install git+https://github.com/open-mmlab/mmengine.git@main\n",
        "!pip install -U openmim\n",
        "!mim install 'mmcv >= 2.0.0rc1'"
      ]
    },
    {
      "cell_type": "markdown",
      "metadata": {
        "id": "EW3EjKn9oee6"
      },
      "source": [
        "# Install MMSegmentation"
      ]
    },
    {
      "cell_type": "code",
      "execution_count": null,
      "metadata": {
        "colab": {
          "base_uri": "https://localhost:8080/"
        },
        "id": "K88zhKxrofiW",
        "outputId": "02090038-8bfd-48ad-a7b8-f67bec5ad7f6"
      },
      "outputs": [],
      "source": [
        "!git clone -b dev-1.x https://github.com/open-mmlab/mmsegmentation.git "
      ]
    },
    {
      "cell_type": "code",
      "execution_count": null,
      "metadata": {
        "colab": {
          "base_uri": "https://localhost:8080/"
        },
        "id": "OtGT7WPPsg9Q",
        "outputId": "5d12de9d-9ab5-4eef-b205-b2f3ae1f84c3"
      },
      "outputs": [],
      "source": [
        "%cd mmsegmentation/\n",
        "!pip install -e ."
      ]
    },
    {
      "cell_type": "code",
      "execution_count": null,
      "metadata": {
        "colab": {
          "base_uri": "https://localhost:8080/"
        },
        "id": "O36eoRZroksR",
        "outputId": "0a2c0b42-ab6a-4a10-c16a-129b414fd2df"
      },
      "outputs": [],
      "source": [
        "# Check MMSegmentation installation\n",
        "import mmseg\n",
        "print(mmseg.__version__)"
      ]
    },
    {
      "cell_type": "code",
      "execution_count": null,
      "metadata": {
        "colab": {
          "base_uri": "https://localhost:8080/"
        },
        "id": "_xLF8xj2oqVf",
        "outputId": "e28b178c-c1f9-4296-ac39-119bbef27d98"
      },
      "outputs": [],
      "source": [
        "# Download config and checkpoint files\n",
        "!mim download mmsegmentation --config pspnet_r50-d8_4xb2-40k_cityscapes-512x1024 --dest ."
      ]
    },
    {
      "cell_type": "markdown",
      "metadata": {
        "id": "Liqbw5ehtiSC"
      },
      "source": [
        "# High-level APIs"
      ]
    },
    {
      "cell_type": "markdown",
      "metadata": {},
      "source": [
        "## inference"
      ]
    },
    {
      "cell_type": "code",
      "execution_count": null,
      "metadata": {
        "colab": {
          "base_uri": "https://localhost:8080/"
        },
        "id": "kdElbFmjtj5-",
        "outputId": "2c61fcc9-ae8c-41fe-e5b7-bddad3668fef"
      },
      "outputs": [],
      "source": [
        "from mmseg.apis import inference_model, init_model, show_result_pyplot\n",
        "from mmseg.utils import register_all_modules\n",
        "\n",
        "\n",
        "register_all_modules()\n",
        "\n",
        "config_file = 'pspnet_r50-d8_4xb2-40k_cityscapes-512x1024.py'\n",
        "checkpoint_file = 'pspnet_r50-d8_512x1024_40k_cityscapes_20200605_003338-2966598c.pth'\n",
        "\n",
        "model = init_model(config_file, checkpoint_file, device='cuda:0')"
      ]
    },
    {
      "cell_type": "code",
      "execution_count": null,
      "metadata": {
        "id": "XdjXy4T9wTd8"
      },
      "outputs": [],
      "source": [
        "img = 'demo/demo.png'\n",
        "result = inference_model(model, img)\n",
        "vis_result = show_result_pyplot(model, img, result)\n"
      ]
    },
    {
      "cell_type": "code",
      "execution_count": null,
      "metadata": {},
      "outputs": [],
      "source": [
        "import matplotlib.pyplot as plt\n",
        "import mmcv\n",
        "plt.imshow(mmcv.bgr2rgb(vis_result))"
      ]
    },
    {
      "cell_type": "markdown",
      "metadata": {},
      "source": [
        "## train and test"
      ]
    },
    {
      "cell_type": "code",
      "execution_count": null,
      "metadata": {},
      "outputs": [],
      "source": [
        "!mkdir data\n",
        "%cd data\n",
        "!ln -s /content/cityscapes\n",
        "%cd ..\n"
      ]
    },
    {
      "cell_type": "code",
      "execution_count": null,
      "metadata": {},
      "outputs": [],
      "source": [
        "!python tools/train.py configs/pspnet/pspnet_r50-d8_4xb2-40k_cityscapes-512x1024.py --cfg-options train_cfg.max_iters=10 default_hooks.logger.interval=2"
      ]
    },
    {
      "cell_type": "code",
      "execution_count": null,
      "metadata": {},
      "outputs": [],
      "source": [
        "!python tools/test.py configs/pspnet/pspnet_r50-d8_4xb2-40k_cityscapes-512x1024.py /content/mmsegmentation/pspnet_r50-d8_512x1024_40k_cityscapes_20200605_003338-2966598c.pth"
      ]
    },
    {
      "cell_type": "code",
      "execution_count": null,
      "metadata": {},
      "outputs": [],
      "source": [
        "!python tools/test.py configs/pspnet/pspnet_r50-d8_4xb2-40k_cityscapes-512x1024.py /content/mmsegmentation/pspnet_r50-d8_512x1024_40k_cityscapes_20200605_003338-2966598c.pth --show-dir vis_results --cfg-options default_hooks.visualization.interval=100"
      ]
    }
  ],
  "metadata": {
    "accelerator": "GPU",
    "colab": {
      "authorship_tag": "ABX9TyNlvVpZ9TnVlWNlln6pHOMb",
      "collapsed_sections": [],
      "include_colab_link": true,
      "provenance": [],
      "toc_visible": true
    },
    "kernelspec": {
      "display_name": "Python 3",
      "name": "python3"
    },
    "language_info": {
      "name": "python"
    }
  },
  "nbformat": 4,
  "nbformat_minor": 0
}
