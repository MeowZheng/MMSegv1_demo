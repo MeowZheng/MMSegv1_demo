{
  "nbformat": 4,
  "nbformat_minor": 0,
  "metadata": {
    "colab": {
      "provenance": [],
      "collapsed_sections": [],
      "toc_visible": true,
      "authorship_tag": "ABX9TyNlvVpZ9TnVlWNlln6pHOMb",
      "include_colab_link": true
    },
    "kernelspec": {
      "name": "python3",
      "display_name": "Python 3"
    },
    "language_info": {
      "name": "python"
    },
    "accelerator": "GPU"
  },
  "cells": [
    {
      "cell_type": "markdown",
      "metadata": {
        "id": "view-in-github",
        "colab_type": "text"
      },
      "source": [
        "<a href=\"https://colab.research.google.com/github/MeowZheng/MMSegv1_demo/blob/master/mmsegv1_demo.ipynb\" target=\"_parent\"><img src=\"https://colab.research.google.com/assets/colab-badge.svg\" alt=\"Open In Colab\"/></a>"
      ]
    },
    {
      "cell_type": "markdown",
      "source": [
        "# Install MMSeg dependencies"
      ],
      "metadata": {
        "id": "B5P9UY6VoZms"
      }
    },
    {
      "cell_type": "code",
      "source": [
        "!pip install torch==1.12.0 torchvision --extra-index-url https://download.pytorch.org/whl/cu113 \n",
        "!pip install git+https://github.com/open-mmlab/mmengine.git@main\n",
        "!pip install -U openmim\n",
        "!mim install 'mmcv >= 2.0.0rc1'"
      ],
      "metadata": {
        "colab": {
          "base_uri": "https://localhost:8080/"
        },
        "id": "kqNJcXB4obK6",
        "outputId": "4ab394e4-8f16-41c3-afb7-30cb9f594d4f"
      },
      "execution_count": 1,
      "outputs": [
        {
          "output_type": "stream",
          "name": "stdout",
          "text": [
            "Looking in indexes: https://pypi.org/simple, https://us-python.pkg.dev/colab-wheels/public/simple/, https://download.pytorch.org/whl/cu113\n",
            "Collecting torch==1.12.0\n",
            "  Downloading https://download.pytorch.org/whl/cu113/torch-1.12.0%2Bcu113-cp37-cp37m-linux_x86_64.whl (1837.7 MB)\n",
            "\u001b[K     |██████████████▌                 | 834.1 MB 1.3 MB/s eta 0:12:58tcmalloc: large alloc 1147494400 bytes == 0x661fa000 @  0x7f8fc53f7615 0x58e046 0x4f2e5e 0x4d19df 0x51b31c 0x5b41c5 0x58f49e 0x51b221 0x5b41c5 0x58f49e 0x51837f 0x4cfabb 0x517aa0 0x4cfabb 0x517aa0 0x4cfabb 0x517aa0 0x4ba70a 0x538136 0x590055 0x51b180 0x5b41c5 0x58f49e 0x51837f 0x5b41c5 0x58f49e 0x51740e 0x58f2a7 0x517947 0x5b41c5 0x58f49e\n",
            "\u001b[K     |██████████████████▍             | 1055.7 MB 1.2 MB/s eta 0:10:39tcmalloc: large alloc 1434370048 bytes == 0x3a22000 @  0x7f8fc53f7615 0x58e046 0x4f2e5e 0x4d19df 0x51b31c 0x5b41c5 0x58f49e 0x51b221 0x5b41c5 0x58f49e 0x51837f 0x4cfabb 0x517aa0 0x4cfabb 0x517aa0 0x4cfabb 0x517aa0 0x4ba70a 0x538136 0x590055 0x51b180 0x5b41c5 0x58f49e 0x51837f 0x5b41c5 0x58f49e 0x51740e 0x58f2a7 0x517947 0x5b41c5 0x58f49e\n",
            "\u001b[K     |███████████████████████▎        | 1336.2 MB 1.2 MB/s eta 0:06:54tcmalloc: large alloc 1792966656 bytes == 0x5920e000 @  0x7f8fc53f7615 0x58e046 0x4f2e5e 0x4d19df 0x51b31c 0x5b41c5 0x58f49e 0x51b221 0x5b41c5 0x58f49e 0x51837f 0x4cfabb 0x517aa0 0x4cfabb 0x517aa0 0x4cfabb 0x517aa0 0x4ba70a 0x538136 0x590055 0x51b180 0x5b41c5 0x58f49e 0x51837f 0x5b41c5 0x58f49e 0x51740e 0x58f2a7 0x517947 0x5b41c5 0x58f49e\n",
            "\u001b[K     |█████████████████████████████▌  | 1691.1 MB 1.2 MB/s eta 0:02:03tcmalloc: large alloc 2241208320 bytes == 0xc3ff6000 @  0x7f8fc53f7615 0x58e046 0x4f2e5e 0x4d19df 0x51b31c 0x5b41c5 0x58f49e 0x51b221 0x5b41c5 0x58f49e 0x51837f 0x4cfabb 0x517aa0 0x4cfabb 0x517aa0 0x4cfabb 0x517aa0 0x4ba70a 0x538136 0x590055 0x51b180 0x5b41c5 0x58f49e 0x51837f 0x5b41c5 0x58f49e 0x51740e 0x58f2a7 0x517947 0x5b41c5 0x58f49e\n",
            "\u001b[K     |████████████████████████████████| 1837.6 MB 1.2 MB/s eta 0:00:01tcmalloc: large alloc 1837662208 bytes == 0x3a22000 @  0x7f8fc53f61e7 0x4b2150 0x4b21dc 0x58e046 0x4f2e5e 0x4d19df 0x51b31c 0x5b41c5 0x58f49e 0x517947 0x5b41c5 0x58f49e 0x517947 0x5b41c5 0x58f49e 0x517947 0x5b41c5 0x58f49e 0x517947 0x5b41c5 0x58f49e 0x517947 0x58f2a7 0x517947 0x5b41c5 0x58f49e 0x51837f 0x5b41c5 0x58f49e 0x51837f 0x5b41c5\n",
            "tcmalloc: large alloc 2297077760 bytes == 0x149958000 @  0x7f8fc53f7615 0x58e046 0x4f2e5e 0x4d19df 0x51b31c 0x5b41c5 0x58f49e 0x517947 0x5b41c5 0x58f49e 0x517947 0x5b41c5 0x58f49e 0x517947 0x5b41c5 0x58f49e 0x517947 0x5b41c5 0x58f49e 0x517947 0x58f2a7 0x517947 0x5b41c5 0x58f49e 0x51837f 0x5b41c5 0x58f49e 0x51837f 0x5b41c5 0x4ba899 0x4d29f9\n",
            "\u001b[K     |████████████████████████████████| 1837.7 MB 9.0 kB/s \n",
            "\u001b[?25hRequirement already satisfied: torchvision in /usr/local/lib/python3.7/dist-packages (0.13.1+cu113)\n",
            "Requirement already satisfied: typing-extensions in /usr/local/lib/python3.7/dist-packages (from torch==1.12.0) (4.1.1)\n",
            "Requirement already satisfied: numpy in /usr/local/lib/python3.7/dist-packages (from torchvision) (1.21.6)\n",
            "Requirement already satisfied: requests in /usr/local/lib/python3.7/dist-packages (from torchvision) (2.23.0)\n",
            "Collecting torchvision\n",
            "  Downloading torchvision-0.13.1-cp37-cp37m-manylinux1_x86_64.whl (19.1 MB)\n",
            "\u001b[K     |████████████████████████████████| 19.1 MB 1.1 MB/s \n",
            "\u001b[?25h  Downloading https://download.pytorch.org/whl/cu113/torchvision-0.13.0%2Bcu113-cp37-cp37m-linux_x86_64.whl (23.4 MB)\n",
            "\u001b[K     |████████████████████████████████| 23.4 MB 1.4 MB/s \n",
            "\u001b[?25hRequirement already satisfied: pillow!=8.3.*,>=5.3.0 in /usr/local/lib/python3.7/dist-packages (from torchvision) (7.1.2)\n",
            "Requirement already satisfied: certifi>=2017.4.17 in /usr/local/lib/python3.7/dist-packages (from requests->torchvision) (2022.6.15)\n",
            "Requirement already satisfied: urllib3!=1.25.0,!=1.25.1,<1.26,>=1.21.1 in /usr/local/lib/python3.7/dist-packages (from requests->torchvision) (1.24.3)\n",
            "Requirement already satisfied: chardet<4,>=3.0.2 in /usr/local/lib/python3.7/dist-packages (from requests->torchvision) (3.0.4)\n",
            "Requirement already satisfied: idna<3,>=2.5 in /usr/local/lib/python3.7/dist-packages (from requests->torchvision) (2.10)\n",
            "Installing collected packages: torch, torchvision\n",
            "  Attempting uninstall: torch\n",
            "    Found existing installation: torch 1.12.1+cu113\n",
            "    Uninstalling torch-1.12.1+cu113:\n",
            "      Successfully uninstalled torch-1.12.1+cu113\n",
            "  Attempting uninstall: torchvision\n",
            "    Found existing installation: torchvision 0.13.1+cu113\n",
            "    Uninstalling torchvision-0.13.1+cu113:\n",
            "      Successfully uninstalled torchvision-0.13.1+cu113\n",
            "\u001b[31mERROR: pip's dependency resolver does not currently take into account all the packages that are installed. This behaviour is the source of the following dependency conflicts.\n",
            "torchtext 0.13.1 requires torch==1.12.1, but you have torch 1.12.0+cu113 which is incompatible.\n",
            "torchaudio 0.12.1+cu113 requires torch==1.12.1, but you have torch 1.12.0+cu113 which is incompatible.\u001b[0m\n",
            "Successfully installed torch-1.12.0+cu113 torchvision-0.13.0+cu113\n",
            "Looking in indexes: https://pypi.org/simple, https://us-python.pkg.dev/colab-wheels/public/simple/\n",
            "Collecting git+https://github.com/open-mmlab/mmengine.git@main\n",
            "  Cloning https://github.com/open-mmlab/mmengine.git (to revision main) to /tmp/pip-req-build-2isako0g\n",
            "  Running command git clone -q https://github.com/open-mmlab/mmengine.git /tmp/pip-req-build-2isako0g\n",
            "Collecting addict\n",
            "  Downloading addict-2.4.0-py3-none-any.whl (3.8 kB)\n",
            "Requirement already satisfied: matplotlib in /usr/local/lib/python3.7/dist-packages (from mmengine==0.1.0) (3.2.2)\n",
            "Requirement already satisfied: numpy in /usr/local/lib/python3.7/dist-packages (from mmengine==0.1.0) (1.21.6)\n",
            "Requirement already satisfied: pyyaml in /usr/local/lib/python3.7/dist-packages (from mmengine==0.1.0) (6.0)\n",
            "Requirement already satisfied: termcolor in /usr/local/lib/python3.7/dist-packages (from mmengine==0.1.0) (1.1.0)\n",
            "Collecting yapf\n",
            "  Downloading yapf-0.32.0-py2.py3-none-any.whl (190 kB)\n",
            "\u001b[K     |████████████████████████████████| 190 kB 31.2 MB/s \n",
            "\u001b[?25hRequirement already satisfied: cycler>=0.10 in /usr/local/lib/python3.7/dist-packages (from matplotlib->mmengine==0.1.0) (0.11.0)\n",
            "Requirement already satisfied: kiwisolver>=1.0.1 in /usr/local/lib/python3.7/dist-packages (from matplotlib->mmengine==0.1.0) (1.4.4)\n",
            "Requirement already satisfied: pyparsing!=2.0.4,!=2.1.2,!=2.1.6,>=2.0.1 in /usr/local/lib/python3.7/dist-packages (from matplotlib->mmengine==0.1.0) (3.0.9)\n",
            "Requirement already satisfied: python-dateutil>=2.1 in /usr/local/lib/python3.7/dist-packages (from matplotlib->mmengine==0.1.0) (2.8.2)\n",
            "Requirement already satisfied: typing-extensions in /usr/local/lib/python3.7/dist-packages (from kiwisolver>=1.0.1->matplotlib->mmengine==0.1.0) (4.1.1)\n",
            "Requirement already satisfied: six>=1.5 in /usr/local/lib/python3.7/dist-packages (from python-dateutil>=2.1->matplotlib->mmengine==0.1.0) (1.15.0)\n",
            "Building wheels for collected packages: mmengine\n",
            "  Building wheel for mmengine (setup.py) ... \u001b[?25l\u001b[?25hdone\n",
            "  Created wheel for mmengine: filename=mmengine-0.1.0-py3-none-any.whl size=281758 sha256=426c9173bf1af251ac2ee8042b9c8bee611a44d7256a0f6b711898c052075e0d\n",
            "  Stored in directory: /tmp/pip-ephem-wheel-cache-ibdxjqjs/wheels/56/a3/4c/68a203fe1c62a2688ecbe4a5642d2b474591b1756e19141433\n",
            "Successfully built mmengine\n",
            "Installing collected packages: yapf, addict, mmengine\n",
            "Successfully installed addict-2.4.0 mmengine-0.1.0 yapf-0.32.0\n",
            "Looking in indexes: https://pypi.org/simple, https://us-python.pkg.dev/colab-wheels/public/simple/\n",
            "Collecting openmim\n",
            "  Downloading openmim-0.3.1-py2.py3-none-any.whl (50 kB)\n",
            "\u001b[K     |████████████████████████████████| 50 kB 6.5 MB/s \n",
            "\u001b[?25hRequirement already satisfied: pip>=19.3 in /usr/local/lib/python3.7/dist-packages (from openmim) (21.1.3)\n",
            "Requirement already satisfied: requests in /usr/local/lib/python3.7/dist-packages (from openmim) (2.23.0)\n",
            "Collecting model-index\n",
            "  Downloading model_index-0.1.11-py3-none-any.whl (34 kB)\n",
            "Collecting colorama\n",
            "  Downloading colorama-0.4.5-py2.py3-none-any.whl (16 kB)\n",
            "Requirement already satisfied: Click in /usr/local/lib/python3.7/dist-packages (from openmim) (7.1.2)\n",
            "Requirement already satisfied: pandas in /usr/local/lib/python3.7/dist-packages (from openmim) (1.3.5)\n",
            "Collecting rich\n",
            "  Downloading rich-12.5.1-py3-none-any.whl (235 kB)\n",
            "\u001b[K     |████████████████████████████████| 235 kB 59.5 MB/s \n",
            "\u001b[?25hRequirement already satisfied: tabulate in /usr/local/lib/python3.7/dist-packages (from openmim) (0.8.10)\n",
            "Requirement already satisfied: markdown in /usr/local/lib/python3.7/dist-packages (from model-index->openmim) (3.4.1)\n",
            "Requirement already satisfied: pyyaml in /usr/local/lib/python3.7/dist-packages (from model-index->openmim) (6.0)\n",
            "Collecting ordered-set\n",
            "  Downloading ordered_set-4.1.0-py3-none-any.whl (7.6 kB)\n",
            "Requirement already satisfied: importlib-metadata>=4.4 in /usr/local/lib/python3.7/dist-packages (from markdown->model-index->openmim) (4.12.0)\n",
            "Requirement already satisfied: zipp>=0.5 in /usr/local/lib/python3.7/dist-packages (from importlib-metadata>=4.4->markdown->model-index->openmim) (3.8.1)\n",
            "Requirement already satisfied: typing-extensions>=3.6.4 in /usr/local/lib/python3.7/dist-packages (from importlib-metadata>=4.4->markdown->model-index->openmim) (4.1.1)\n",
            "Requirement already satisfied: python-dateutil>=2.7.3 in /usr/local/lib/python3.7/dist-packages (from pandas->openmim) (2.8.2)\n",
            "Requirement already satisfied: pytz>=2017.3 in /usr/local/lib/python3.7/dist-packages (from pandas->openmim) (2022.2.1)\n",
            "Requirement already satisfied: numpy>=1.17.3 in /usr/local/lib/python3.7/dist-packages (from pandas->openmim) (1.21.6)\n",
            "Requirement already satisfied: six>=1.5 in /usr/local/lib/python3.7/dist-packages (from python-dateutil>=2.7.3->pandas->openmim) (1.15.0)\n",
            "Requirement already satisfied: chardet<4,>=3.0.2 in /usr/local/lib/python3.7/dist-packages (from requests->openmim) (3.0.4)\n",
            "Requirement already satisfied: certifi>=2017.4.17 in /usr/local/lib/python3.7/dist-packages (from requests->openmim) (2022.6.15)\n",
            "Requirement already satisfied: urllib3!=1.25.0,!=1.25.1,<1.26,>=1.21.1 in /usr/local/lib/python3.7/dist-packages (from requests->openmim) (1.24.3)\n",
            "Requirement already satisfied: idna<3,>=2.5 in /usr/local/lib/python3.7/dist-packages (from requests->openmim) (2.10)\n",
            "Collecting commonmark<0.10.0,>=0.9.0\n",
            "  Downloading commonmark-0.9.1-py2.py3-none-any.whl (51 kB)\n",
            "\u001b[K     |████████████████████████████████| 51 kB 7.8 MB/s \n",
            "\u001b[?25hRequirement already satisfied: pygments<3.0.0,>=2.6.0 in /usr/local/lib/python3.7/dist-packages (from rich->openmim) (2.6.1)\n",
            "Installing collected packages: ordered-set, commonmark, rich, model-index, colorama, openmim\n",
            "Successfully installed colorama-0.4.5 commonmark-0.9.1 model-index-0.1.11 openmim-0.3.1 ordered-set-4.1.0 rich-12.5.1\n",
            "Looking in indexes: https://pypi.org/simple, https://us-python.pkg.dev/colab-wheels/public/simple/\n",
            "Looking in links: https://download.openmmlab.com/mmcv/dist/cu113/torch1.12.0/index.html\n",
            "Collecting mmcv>=2.0.0rc1\n",
            "  Downloading https://download.openmmlab.com/mmcv/dist/cu113/torch1.12.0/mmcv-2.0.0rc1-cp37-cp37m-manylinux1_x86_64.whl (40.4 MB)\n",
            "\u001b[K     |████████████████████████████████| 40.4 MB 7.8 MB/s \n",
            "\u001b[?25hRequirement already satisfied: pyyaml in /usr/local/lib/python3.7/dist-packages (from mmcv>=2.0.0rc1) (6.0)\n",
            "Requirement already satisfied: addict in /usr/local/lib/python3.7/dist-packages (from mmcv>=2.0.0rc1) (2.4.0)\n",
            "Requirement already satisfied: opencv-python>=3 in /usr/local/lib/python3.7/dist-packages (from mmcv>=2.0.0rc1) (4.6.0.66)\n",
            "Requirement already satisfied: numpy in /usr/local/lib/python3.7/dist-packages (from mmcv>=2.0.0rc1) (1.21.6)\n",
            "Requirement already satisfied: mmengine in /usr/local/lib/python3.7/dist-packages (from mmcv>=2.0.0rc1) (0.1.0)\n",
            "Requirement already satisfied: packaging in /usr/local/lib/python3.7/dist-packages (from mmcv>=2.0.0rc1) (21.3)\n",
            "Requirement already satisfied: Pillow in /usr/local/lib/python3.7/dist-packages (from mmcv>=2.0.0rc1) (7.1.2)\n",
            "Requirement already satisfied: yapf in /usr/local/lib/python3.7/dist-packages (from mmcv>=2.0.0rc1) (0.32.0)\n",
            "Requirement already satisfied: termcolor in /usr/local/lib/python3.7/dist-packages (from mmengine->mmcv>=2.0.0rc1) (1.1.0)\n",
            "Requirement already satisfied: matplotlib in /usr/local/lib/python3.7/dist-packages (from mmengine->mmcv>=2.0.0rc1) (3.2.2)\n",
            "Requirement already satisfied: cycler>=0.10 in /usr/local/lib/python3.7/dist-packages (from matplotlib->mmengine->mmcv>=2.0.0rc1) (0.11.0)\n",
            "Requirement already satisfied: kiwisolver>=1.0.1 in /usr/local/lib/python3.7/dist-packages (from matplotlib->mmengine->mmcv>=2.0.0rc1) (1.4.4)\n",
            "Requirement already satisfied: python-dateutil>=2.1 in /usr/local/lib/python3.7/dist-packages (from matplotlib->mmengine->mmcv>=2.0.0rc1) (2.8.2)\n",
            "Requirement already satisfied: pyparsing!=2.0.4,!=2.1.2,!=2.1.6,>=2.0.1 in /usr/local/lib/python3.7/dist-packages (from matplotlib->mmengine->mmcv>=2.0.0rc1) (3.0.9)\n",
            "Requirement already satisfied: typing-extensions in /usr/local/lib/python3.7/dist-packages (from kiwisolver>=1.0.1->matplotlib->mmengine->mmcv>=2.0.0rc1) (4.1.1)\n",
            "Requirement already satisfied: six>=1.5 in /usr/local/lib/python3.7/dist-packages (from python-dateutil>=2.1->matplotlib->mmengine->mmcv>=2.0.0rc1) (1.15.0)\n",
            "Installing collected packages: mmcv\n",
            "Successfully installed mmcv-2.0.0rc1\n"
          ]
        }
      ]
    },
    {
      "cell_type": "markdown",
      "source": [
        "# Install MMSegmentation"
      ],
      "metadata": {
        "id": "EW3EjKn9oee6"
      }
    },
    {
      "cell_type": "code",
      "source": [
        "!git clone -b dev-1.x https://github.com/open-mmlab/mmsegmentation.git "
      ],
      "metadata": {
        "colab": {
          "base_uri": "https://localhost:8080/"
        },
        "id": "K88zhKxrofiW",
        "outputId": "02090038-8bfd-48ad-a7b8-f67bec5ad7f6"
      },
      "execution_count": 2,
      "outputs": [
        {
          "output_type": "stream",
          "name": "stdout",
          "text": [
            "Cloning into 'mmsegmentation'...\n",
            "remote: Enumerating objects: 11692, done.\u001b[K\n",
            "remote: Counting objects:   0% (1/180)\u001b[K\rremote: Counting objects:   1% (2/180)\u001b[K\rremote: Counting objects:   2% (4/180)\u001b[K\rremote: Counting objects:   3% (6/180)\u001b[K\rremote: Counting objects:   4% (8/180)\u001b[K\rremote: Counting objects:   5% (9/180)\u001b[K\rremote: Counting objects:   6% (11/180)\u001b[K\rremote: Counting objects:   7% (13/180)\u001b[K\rremote: Counting objects:   8% (15/180)\u001b[K\rremote: Counting objects:   9% (17/180)\u001b[K\rremote: Counting objects:  10% (18/180)\u001b[K\rremote: Counting objects:  11% (20/180)\u001b[K\rremote: Counting objects:  12% (22/180)\u001b[K\rremote: Counting objects:  13% (24/180)\u001b[K\rremote: Counting objects:  14% (26/180)\u001b[K\rremote: Counting objects:  15% (27/180)\u001b[K\rremote: Counting objects:  16% (29/180)\u001b[K\rremote: Counting objects:  17% (31/180)\u001b[K\rremote: Counting objects:  18% (33/180)\u001b[K\rremote: Counting objects:  19% (35/180)\u001b[K\rremote: Counting objects:  20% (36/180)\u001b[K\rremote: Counting objects:  21% (38/180)\u001b[K\rremote: Counting objects:  22% (40/180)\u001b[K\rremote: Counting objects:  23% (42/180)\u001b[K\rremote: Counting objects:  24% (44/180)\u001b[K\rremote: Counting objects:  25% (45/180)\u001b[K\rremote: Counting objects:  26% (47/180)\u001b[K\rremote: Counting objects:  27% (49/180)\u001b[K\rremote: Counting objects:  28% (51/180)\u001b[K\rremote: Counting objects:  29% (53/180)\u001b[K\rremote: Counting objects:  30% (54/180)\u001b[K\rremote: Counting objects:  31% (56/180)\u001b[K\rremote: Counting objects:  32% (58/180)\u001b[K\rremote: Counting objects:  33% (60/180)\u001b[K\rremote: Counting objects:  34% (62/180)\u001b[K\rremote: Counting objects:  35% (63/180)\u001b[K\rremote: Counting objects:  36% (65/180)\u001b[K\rremote: Counting objects:  37% (67/180)\u001b[K\rremote: Counting objects:  38% (69/180)\u001b[K\rremote: Counting objects:  39% (71/180)\u001b[K\rremote: Counting objects:  40% (72/180)\u001b[K\rremote: Counting objects:  41% (74/180)\u001b[K\rremote: Counting objects:  42% (76/180)\u001b[K\rremote: Counting objects:  43% (78/180)\u001b[K\rremote: Counting objects:  44% (80/180)\u001b[K\rremote: Counting objects:  45% (81/180)\u001b[K\rremote: Counting objects:  46% (83/180)\u001b[K\rremote: Counting objects:  47% (85/180)\u001b[K\rremote: Counting objects:  48% (87/180)\u001b[K\rremote: Counting objects:  49% (89/180)\u001b[K\rremote: Counting objects:  50% (90/180)\u001b[K\rremote: Counting objects:  51% (92/180)\u001b[K\rremote: Counting objects:  52% (94/180)\u001b[K\rremote: Counting objects:  53% (96/180)\u001b[K\rremote: Counting objects:  54% (98/180)\u001b[K\rremote: Counting objects:  55% (99/180)\u001b[K\rremote: Counting objects:  56% (101/180)\u001b[K\rremote: Counting objects:  57% (103/180)\u001b[K\rremote: Counting objects:  58% (105/180)\u001b[K\rremote: Counting objects:  59% (107/180)\u001b[K\rremote: Counting objects:  60% (108/180)\u001b[K\rremote: Counting objects:  61% (110/180)\u001b[K\rremote: Counting objects:  62% (112/180)\u001b[K\rremote: Counting objects:  63% (114/180)\u001b[K\rremote: Counting objects:  64% (116/180)\u001b[K\rremote: Counting objects:  65% (117/180)\u001b[K\rremote: Counting objects:  66% (119/180)\u001b[K\rremote: Counting objects:  67% (121/180)\u001b[K\rremote: Counting objects:  68% (123/180)\u001b[K\rremote: Counting objects:  69% (125/180)\u001b[K\rremote: Counting objects:  70% (126/180)\u001b[K\rremote: Counting objects:  71% (128/180)\u001b[K\rremote: Counting objects:  72% (130/180)\u001b[K\rremote: Counting objects:  73% (132/180)\u001b[K\rremote: Counting objects:  74% (134/180)\u001b[K\rremote: Counting objects:  75% (135/180)\u001b[K\rremote: Counting objects:  76% (137/180)\u001b[K\rremote: Counting objects:  77% (139/180)\u001b[K\rremote: Counting objects:  78% (141/180)\u001b[K\rremote: Counting objects:  79% (143/180)\u001b[K\rremote: Counting objects:  80% (144/180)\u001b[K\rremote: Counting objects:  81% (146/180)\u001b[K\rremote: Counting objects:  82% (148/180)\u001b[K\rremote: Counting objects:  83% (150/180)\u001b[K\rremote: Counting objects:  84% (152/180)\u001b[K\rremote: Counting objects:  85% (153/180)\u001b[K\rremote: Counting objects:  86% (155/180)\u001b[K\rremote: Counting objects:  87% (157/180)\u001b[K\rremote: Counting objects:  88% (159/180)\u001b[K\rremote: Counting objects:  89% (161/180)\u001b[K\rremote: Counting objects:  90% (162/180)\u001b[K\rremote: Counting objects:  91% (164/180)\u001b[K\rremote: Counting objects:  92% (166/180)\u001b[K\rremote: Counting objects:  93% (168/180)\u001b[K\rremote: Counting objects:  94% (170/180)\u001b[K\rremote: Counting objects:  95% (171/180)\u001b[K\rremote: Counting objects:  96% (173/180)\u001b[K\rremote: Counting objects:  97% (175/180)\u001b[K\rremote: Counting objects:  98% (177/180)\u001b[K\rremote: Counting objects:  99% (179/180)\u001b[K\rremote: Counting objects: 100% (180/180)\u001b[K\rremote: Counting objects: 100% (180/180), done.\u001b[K\n",
            "remote: Compressing objects: 100% (156/156), done.\u001b[K\n",
            "remote: Total 11692 (delta 40), reused 142 (delta 24), pack-reused 11512\u001b[K\n",
            "Receiving objects: 100% (11692/11692), 14.58 MiB | 39.91 MiB/s, done.\n",
            "Resolving deltas: 100% (8479/8479), done.\n"
          ]
        }
      ]
    },
    {
      "cell_type": "code",
      "source": [
        "%cd mmsegmentation/\n",
        "!pip install -e ."
      ],
      "metadata": {
        "colab": {
          "base_uri": "https://localhost:8080/"
        },
        "id": "OtGT7WPPsg9Q",
        "outputId": "5d12de9d-9ab5-4eef-b205-b2f3ae1f84c3"
      },
      "execution_count": 3,
      "outputs": [
        {
          "output_type": "stream",
          "name": "stdout",
          "text": [
            "/content/mmsegmentation\n",
            "Looking in indexes: https://pypi.org/simple, https://us-python.pkg.dev/colab-wheels/public/simple/\n",
            "Obtaining file:///content/mmsegmentation\n",
            "Requirement already satisfied: matplotlib in /usr/local/lib/python3.7/dist-packages (from mmsegmentation==1.0.0rc0) (3.2.2)\n",
            "Collecting mmcls>=1.0.0rc0\n",
            "  Downloading mmcls-1.0.0rc0-py2.py3-none-any.whl (557 kB)\n",
            "\u001b[K     |████████████████████████████████| 557 kB 27.0 MB/s \n",
            "\u001b[?25hRequirement already satisfied: numpy in /usr/local/lib/python3.7/dist-packages (from mmsegmentation==1.0.0rc0) (1.21.6)\n",
            "Requirement already satisfied: packaging in /usr/local/lib/python3.7/dist-packages (from mmsegmentation==1.0.0rc0) (21.3)\n",
            "Requirement already satisfied: prettytable in /usr/local/lib/python3.7/dist-packages (from mmsegmentation==1.0.0rc0) (3.4.1)\n",
            "Requirement already satisfied: rich in /usr/local/lib/python3.7/dist-packages (from mmcls>=1.0.0rc0->mmsegmentation==1.0.0rc0) (12.5.1)\n",
            "Requirement already satisfied: kiwisolver>=1.0.1 in /usr/local/lib/python3.7/dist-packages (from matplotlib->mmsegmentation==1.0.0rc0) (1.4.4)\n",
            "Requirement already satisfied: python-dateutil>=2.1 in /usr/local/lib/python3.7/dist-packages (from matplotlib->mmsegmentation==1.0.0rc0) (2.8.2)\n",
            "Requirement already satisfied: pyparsing!=2.0.4,!=2.1.2,!=2.1.6,>=2.0.1 in /usr/local/lib/python3.7/dist-packages (from matplotlib->mmsegmentation==1.0.0rc0) (3.0.9)\n",
            "Requirement already satisfied: cycler>=0.10 in /usr/local/lib/python3.7/dist-packages (from matplotlib->mmsegmentation==1.0.0rc0) (0.11.0)\n",
            "Requirement already satisfied: typing-extensions in /usr/local/lib/python3.7/dist-packages (from kiwisolver>=1.0.1->matplotlib->mmsegmentation==1.0.0rc0) (4.1.1)\n",
            "Requirement already satisfied: six>=1.5 in /usr/local/lib/python3.7/dist-packages (from python-dateutil>=2.1->matplotlib->mmsegmentation==1.0.0rc0) (1.15.0)\n",
            "Requirement already satisfied: importlib-metadata in /usr/local/lib/python3.7/dist-packages (from prettytable->mmsegmentation==1.0.0rc0) (4.12.0)\n",
            "Requirement already satisfied: wcwidth in /usr/local/lib/python3.7/dist-packages (from prettytable->mmsegmentation==1.0.0rc0) (0.2.5)\n",
            "Requirement already satisfied: zipp>=0.5 in /usr/local/lib/python3.7/dist-packages (from importlib-metadata->prettytable->mmsegmentation==1.0.0rc0) (3.8.1)\n",
            "Requirement already satisfied: pygments<3.0.0,>=2.6.0 in /usr/local/lib/python3.7/dist-packages (from rich->mmcls>=1.0.0rc0->mmsegmentation==1.0.0rc0) (2.6.1)\n",
            "Requirement already satisfied: commonmark<0.10.0,>=0.9.0 in /usr/local/lib/python3.7/dist-packages (from rich->mmcls>=1.0.0rc0->mmsegmentation==1.0.0rc0) (0.9.1)\n",
            "Installing collected packages: mmcls, mmsegmentation\n",
            "  Running setup.py develop for mmsegmentation\n",
            "Successfully installed mmcls-1.0.0rc0 mmsegmentation-1.0.0rc0\n"
          ]
        }
      ]
    },
    {
      "cell_type": "code",
      "source": [
        "# Check MMSegmentation installation\n",
        "import mmseg\n",
        "print(mmseg.__version__)"
      ],
      "metadata": {
        "colab": {
          "base_uri": "https://localhost:8080/"
        },
        "id": "O36eoRZroksR",
        "outputId": "0a2c0b42-ab6a-4a10-c16a-129b414fd2df"
      },
      "execution_count": 4,
      "outputs": [
        {
          "output_type": "stream",
          "name": "stdout",
          "text": [
            "1.0.0rc0\n"
          ]
        }
      ]
    },
    {
      "cell_type": "code",
      "source": [
        "# Download config and checkpoint files\n",
        "!mim download mmsegmentation --config pspnet_r50-d8_4xb2-40k_cityscapes-512x1024 --dest ."
      ],
      "metadata": {
        "colab": {
          "base_uri": "https://localhost:8080/"
        },
        "id": "_xLF8xj2oqVf",
        "outputId": "e28b178c-c1f9-4296-ac39-119bbef27d98"
      },
      "execution_count": 5,
      "outputs": [
        {
          "output_type": "stream",
          "name": "stdout",
          "text": [
            "processing pspnet_r50-d8_4xb2-40k_cityscapes-512x1024...\n",
            "\u001b[2Kdownloading \u001b[90m━━━━━━━━━━━━━━━━━━━━━━━━━━━━━━━\u001b[0m \u001b[32m187.1/187.1 MiB\u001b[0m \u001b[31m9.5 MB/s\u001b[0m eta \u001b[36m0:00:00\u001b[0m\n",
            "\u001b[?25h\u001b[32mSuccessfully downloaded pspnet_r50-d8_512x1024_40k_cityscapes_20200605_003338-2966598c.pth to /content/mmsegmentation\u001b[0m\n",
            "\u001b[32mSuccessfully dumped pspnet_r50-d8_4xb2-40k_cityscapes-512x1024.py to /content/mmsegmentation\u001b[0m\n"
          ]
        }
      ]
    },
    {
      "cell_type": "markdown",
      "source": [
        "# High-level APIs"
      ],
      "metadata": {
        "id": "Liqbw5ehtiSC"
      }
    },
    {
      "cell_type": "code",
      "source": [
        "from mmseg.apis import inference_model, init_model, show_result_pyplot\n",
        "from mmseg.utils import register_all_modules\n",
        "\n",
        "\n",
        "register_all_modules()\n",
        "\n",
        "config_file = 'pspnet_r50-d8_4xb2-40k_cityscapes-512x1024.py'\n",
        "checkpoint_file = 'pspnet_r50-d8_512x1024_40k_cityscapes_20200605_003338-2966598c.pth'\n",
        "\n",
        "model = init_model(config_file, checkpoint_file, device='cuda:0')"
      ],
      "metadata": {
        "colab": {
          "base_uri": "https://localhost:8080/"
        },
        "id": "kdElbFmjtj5-",
        "outputId": "2c61fcc9-ae8c-41fe-e5b7-bddad3668fef"
      },
      "execution_count": 6,
      "outputs": [
        {
          "output_type": "stream",
          "name": "stderr",
          "text": [
            "/content/mmsegmentation/mmseg/models/builder.py:36: UserWarning: ``build_loss`` would be deprecated soon, please use ``mmseg.registry.MODELS.build()`` \n",
            "  warnings.warn('``build_loss`` would be deprecated soon, please use '\n",
            "/content/mmsegmentation/mmseg/models/losses/cross_entropy_loss.py:236: UserWarning: Default ``avg_non_ignore`` is False, if you would like to ignore the certain label and average loss over non-ignore labels, which is the same with PyTorch official cross_entropy, set ``avg_non_ignore=True``.\n",
            "  'Default ``avg_non_ignore`` is False, if you would like to '\n"
          ]
        },
        {
          "output_type": "stream",
          "name": "stdout",
          "text": [
            "local loads checkpoint from path: pspnet_r50-d8_512x1024_40k_cityscapes_20200605_003338-2966598c.pth\n"
          ]
        }
      ]
    },
    {
      "cell_type": "code",
      "source": [
        "img = 'demo/demo.png'\n",
        "result = inference_model(model, img)\n",
        "show_result_pyplot(model, img, result, show=True)"
      ],
      "metadata": {
        "id": "XdjXy4T9wTd8"
      },
      "execution_count": null,
      "outputs": []
    }
  ]
}